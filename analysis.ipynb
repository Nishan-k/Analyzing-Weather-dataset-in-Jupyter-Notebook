{
 "cells": [
  {
   "cell_type": "markdown",
   "id": "41255548",
   "metadata": {},
   "source": [
    "### Information about dataset"
   ]
  },
  {
   "cell_type": "markdown",
   "id": "32390332",
   "metadata": {},
   "source": [
    "This weather dataset contains a time-series data about the weather which is recorded per hour about the weather condition for a particular location.\n",
    "The attributes recorded in this dataset are:\n",
    "- Tempearature\n",
    "- Dew point temperature\n",
    "- Relative Humidity\n",
    "- Wind Speed\n",
    "- Visibility\n",
    "- Pressure \n",
    "- Conditions"
   ]
  },
  {
   "cell_type": "markdown",
   "id": "a29a8972",
   "metadata": {},
   "source": [
    "###  Importing libraries:"
   ]
  },
  {
   "cell_type": "code",
   "execution_count": 5,
   "id": "89e7044e",
   "metadata": {},
   "outputs": [],
   "source": [
    "import pandas as pd"
   ]
  },
  {
   "cell_type": "code",
   "execution_count": null,
   "id": "3df6c8a1",
   "metadata": {},
   "outputs": [],
   "source": [
    "data = pd.read_csv(\"data/\")"
   ]
  }
 ],
 "metadata": {
  "kernelspec": {
   "display_name": "Python 3 (ipykernel)",
   "language": "python",
   "name": "python3"
  },
  "language_info": {
   "codemirror_mode": {
    "name": "ipython",
    "version": 3
   },
   "file_extension": ".py",
   "mimetype": "text/x-python",
   "name": "python",
   "nbconvert_exporter": "python",
   "pygments_lexer": "ipython3",
   "version": "3.10.4"
  }
 },
 "nbformat": 4,
 "nbformat_minor": 5
}
